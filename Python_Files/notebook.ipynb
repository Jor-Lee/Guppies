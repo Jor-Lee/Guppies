{
 "cells": [
  {
   "cell_type": "code",
   "execution_count": 1,
   "metadata": {},
   "outputs": [],
   "source": [
    "from google.cloud import vision\n",
    "from google.cloud import storage\n",
    "from PIL import Image\n",
    "import numpy as np\n",
    "from helper import *\n",
    "import os, sys\n",
    "import csv  \n"
   ]
  },
  {
   "attachments": {},
   "cell_type": "markdown",
   "metadata": {},
   "source": [
    "Crop all images in one batch."
   ]
  },
  {
   "cell_type": "code",
   "execution_count": 2,
   "metadata": {},
   "outputs": [],
   "source": [
    "# raw_dir = '../Data/raw/'\n",
    "\n",
    "# all_files = [raw_dir+i for i in os.listdir(raw_dir) if i[-4:] == '.JPG']\n",
    "# for i in all_files:\n",
    "#     CroppedImage(i)"
   ]
  },
  {
   "attachments": {},
   "cell_type": "markdown",
   "metadata": {},
   "source": [
    "Assess predictions"
   ]
  },
  {
   "cell_type": "code",
   "execution_count": 3,
   "metadata": {},
   "outputs": [],
   "source": [
    "crop_dir = '../Data/cropped/'\n",
    "\n",
    "all_files = [crop_dir+i for i in os.listdir(crop_dir) if i[-4:] == '.JPG']"
   ]
  },
  {
   "cell_type": "code",
   "execution_count": 4,
   "metadata": {},
   "outputs": [
    {
     "name": "stdout",
     "output_type": "stream",
     "text": [
      "198/199\r"
     ]
    }
   ],
   "source": [
    "with open('../Data/predictions.csv', 'w') as f:\n",
    "    writer = csv.writer(f)\n",
    "\n",
    "    # write the header\n",
    "    writer.writerow(['filename', 'prediction', 'corrected'])\n",
    "\n",
    "    for i in range(len(all_files)):    \n",
    "        print(f'{i}/{len(all_files)}',end='\\r')\n",
    "        # write the data\n",
    "        prediction = ReadImage(all_files[i], verbose=False)[0]\n",
    "\n",
    "        corrected_prediction = FindErrors(prediction)\n",
    "\n",
    "        writer.writerow([all_files[i], prediction, corrected_prediction])"
   ]
  },
  {
   "cell_type": "code",
   "execution_count": 6,
   "metadata": {},
   "outputs": [
    {
     "name": "stdout",
     "output_type": "stream",
     "text": [
      "\n",
      "Removing special characters from the output string (e.g. '.', '|').\n",
      "Character M is fine.\n",
      "Character C is fine.\n",
      "Character A is fine.\n",
      "Character - is fine.\n",
      "Character ✩ has been removed.\n",
      "Character - is fine.\n",
      "Character T is fine.\n",
      "Character R is fine.\n",
      "Character A is fine.\n",
      "Character V is fine.\n",
      "Character - is fine.\n",
      "Character 0 is fine.\n",
      "Character 1 is fine.\n",
      "Character / is fine.\n",
      "Character 2 is fine.\n",
      "Character 1 is fine.\n",
      "Character / is fine.\n",
      "Character 1 is fine.\n",
      "Character 3 is fine.\n",
      "\n",
      "Removing paragraphs without three (3), four (4), five (5) or eight (8) elements.\n",
      "Removed empty paragraph\n",
      "Label after removing dead paragraphs: ['MCA', 'TRAV', '01/21/13']\n",
      "\n",
      "Correct number of paragraphs.\n",
      "\n",
      "Looking for errors in the title (MCA).\n",
      "Final title: MCA\n",
      "\n",
      "Looking for errors in the identity (TRAV).\n",
      "Character T at index 0 has been replace with 1\n",
      "Character A at index 2 has been replace with 7\n",
      "Final identity: 1R7V\n",
      "\n",
      "Looking for errors in the date (01/21/13).\n",
      "Final date: 01/21/13\n",
      "\n",
      "Final label is: MCA-1R7V-01/21/13\n"
     ]
    }
   ],
   "source": [
    "file = '../Data/cropped/DSC_1219.JPG'\n",
    "output_string, word_confidences = ReadImage(file)\n",
    "label = FindErrors(output_string,verbose = True)"
   ]
  }
 ],
 "metadata": {
  "kernelspec": {
   "display_name": "Python_Env",
   "language": "python",
   "name": "python3"
  },
  "language_info": {
   "codemirror_mode": {
    "name": "ipython",
    "version": 3
   },
   "file_extension": ".py",
   "mimetype": "text/x-python",
   "name": "python",
   "nbconvert_exporter": "python",
   "pygments_lexer": "ipython3",
   "version": "3.8.8"
  },
  "orig_nbformat": 4
 },
 "nbformat": 4,
 "nbformat_minor": 2
}
