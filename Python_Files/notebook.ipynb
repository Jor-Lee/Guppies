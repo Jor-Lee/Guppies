{
 "cells": [
  {
   "cell_type": "code",
   "execution_count": 4,
   "metadata": {},
   "outputs": [],
   "source": [
    "from google.cloud import vision\n",
    "from google.cloud import storage\n",
    "from PIL import Image\n",
    "import numpy as np\n",
    "import os, sys\n",
    "from helper import *\n",
    "import csv  \n",
    "from io import BytesIO\n",
    "\n",
    "os.environ[\"GOOGLE_APPLICATION_CREDENTIALS\"] = r\"/Users/jordan/Desktop/Guppies_Home/guppies-test-f7e2b73324f8.json\""
   ]
  },
  {
   "attachments": {},
   "cell_type": "markdown",
   "metadata": {},
   "source": [
    "### Read all files from the google bucket. Can cycle through the files in this list and write results to the csv file."
   ]
  },
  {
   "cell_type": "code",
   "execution_count": 55,
   "metadata": {},
   "outputs": [
    {
     "name": "stdout",
     "output_type": "stream",
     "text": [
      "Files have been read.\n"
     ]
    }
   ],
   "source": [
    "all_files = ListAvaliableFiles(\"guppy_images\")"
   ]
  },
  {
   "attachments": {},
   "cell_type": "markdown",
   "metadata": {},
   "source": [
    "### Opens a file from the google bucket, crops it, reads it and corrects the output."
   ]
  },
  {
   "cell_type": "code",
   "execution_count": 8,
   "metadata": {},
   "outputs": [
    {
     "name": "stdout",
     "output_type": "stream",
     "text": [
      "\n",
      "Image has been read from google bucket.\n",
      "\n",
      "Image has been cropped.\n",
      "\n",
      "Output: FCA-ZYBY-01/21/13 \n",
      "Confidence: 0.60731311116466\n"
     ]
    },
    {
     "data": {
      "text/plain": [
       "'FCA-2Y3Y-01/21/13'"
      ]
     },
     "execution_count": 8,
     "metadata": {},
     "output_type": "execute_result"
    }
   ],
   "source": [
    "file = '1301/Caigual/21A/101NCD60/DSC_1052.JPG'\n",
    "image = RetreiveImage(file)\n",
    "cropped_image = CroppedImage(image)\n",
    "output_string, word_confidences = ReadImage(cropped_image)\n",
    "label = FindErrors(output_string, verbose=False)\n",
    "label"
   ]
  },
  {
   "attachments": {},
   "cell_type": "markdown",
   "metadata": {},
   "source": [
    "### Write filename, initial prediction and corrected prediction to csv file for a set of file names."
   ]
  },
  {
   "cell_type": "code",
   "execution_count": 4,
   "metadata": {},
   "outputs": [
    {
     "name": "stdout",
     "output_type": "stream",
     "text": [
      "198/199\r"
     ]
    }
   ],
   "source": [
    "with open('../Data/predictions.csv', 'w') as f:\n",
    "    writer = csv.writer(f)\n",
    "\n",
    "    # write the header\n",
    "    writer.writerow(['filename', 'prediction', 'corrected'])\n",
    "\n",
    "    for i in range(len(all_files)):    \n",
    "        print(f'{i}/{len(all_files)}',end='\\r')\n",
    "        # write the data\n",
    "        prediction = ReadImage(all_files[i], verbose=False)[0]\n",
    "\n",
    "        corrected_prediction = FindErrors(prediction)\n",
    "\n",
    "        writer.writerow([all_files[i], prediction, corrected_prediction])"
   ]
  },
  {
   "cell_type": "code",
   "execution_count": null,
   "metadata": {},
   "outputs": [],
   "source": []
  }
 ],
 "metadata": {
  "kernelspec": {
   "display_name": "Python_Env",
   "language": "python",
   "name": "python3"
  },
  "language_info": {
   "codemirror_mode": {
    "name": "ipython",
    "version": 3
   },
   "file_extension": ".py",
   "mimetype": "text/x-python",
   "name": "python",
   "nbconvert_exporter": "python",
   "pygments_lexer": "ipython3",
   "version": "3.8.8"
  },
  "orig_nbformat": 4
 },
 "nbformat": 4,
 "nbformat_minor": 2
}
