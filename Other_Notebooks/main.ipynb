{
 "cells": [
  {
   "cell_type": "code",
   "execution_count": 2,
   "metadata": {},
   "outputs": [
    {
     "name": "stderr",
     "output_type": "stream",
     "text": [
      "Ultralytics YOLOv8.0.189  Python-3.11.3 torch-2.0.1+cpu CPU (AMD Ryzen 5 3600 6-Core Processor)\n",
      "Setup complete  (12 CPUs, 16.0 GB RAM, 181.7/465.1 GB disk)\n"
     ]
    }
   ],
   "source": [
    "import os, sys\n",
    "from google.cloud import vision\n",
    "from google.cloud import storage\n",
    "from PIL import Image\n",
    "import numpy as np\n",
    "import matplotlib.pyplot as plt\n",
    "import csv  \n",
    "from io import BytesIO\n",
    "from IPython import display\n",
    "from tempfile import NamedTemporaryFile\n",
    "import shutil\n",
    "import cv2\n",
    "import torch \n",
    "import random\n",
    "from torch.utils.data import TensorDataset, DataLoader\n",
    "import h5py\n",
    "from skimage.transform import rotate, resize, rescale\n",
    "import ultralytics\n",
    "ultralytics.checks()\n",
    "\n",
    "# Our scripts\n",
    "from helpers.corrections import *\n",
    "from helpers.image_loading import * \n",
    "from helpers.handling import *\n",
    "from helpers.ML_helper import *\n",
    "\n",
    "\n",
    "relevant_characters =  {0:'0',1:'1',2:'2',3:'3',4:'4',5:'5',6:'6',7:'7',8:'8',9:'B',10:'F',11:'G',12:'K',13:'N',14:'O',15:'P',16:'R',17:'S',18:'V',19:'W',20:'Y', 21:''}\n",
    "\n",
    "os.environ[\"GOOGLE_APPLICATION_CREDENTIALS\"] = r\"../guppies-test-4c48569421d8.json\""
   ]
  },
  {
   "cell_type": "code",
   "execution_count": 4,
   "metadata": {},
   "outputs": [],
   "source": [
    "file_names = ListAvaliableFiles(\"guppy_images\", \"Manually_Labelled/New\")\n",
    "random_file = random.choice(file_names)"
   ]
  },
  {
   "cell_type": "code",
   "execution_count": null,
   "metadata": {},
   "outputs": [],
   "source": []
  }
 ],
 "metadata": {
  "kernelspec": {
   "display_name": "base",
   "language": "python",
   "name": "python3"
  },
  "language_info": {
   "codemirror_mode": {
    "name": "ipython",
    "version": 3
   },
   "file_extension": ".py",
   "mimetype": "text/x-python",
   "name": "python",
   "nbconvert_exporter": "python",
   "pygments_lexer": "ipython3",
   "version": "3.11.3"
  },
  "orig_nbformat": 4
 },
 "nbformat": 4,
 "nbformat_minor": 2
}
