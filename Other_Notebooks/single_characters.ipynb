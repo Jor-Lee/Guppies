{
 "cells": [
  {
   "cell_type": "code",
   "execution_count": 1,
   "metadata": {},
   "outputs": [],
   "source": [
    "import csv\n",
    "import numpy as np\n",
    "import matplotlib.pyplot as plt\n",
    "import torch \n",
    "from torch.utils.data import TensorDataset, DataLoader\n",
    "from ML_helper import *\n",
    "\n",
    "by_merge_map = {0:'0', 1:'1', 2:'2', 3:'3', 4:'4', 5:'5', 6:'6', 7:'7', 8:'8', 9:'9', 10:'A', 11:'B', 12:'C', 13:'D', 14:'E', 15:'F', 16:'G', 17:'H', 18:'I', 19:'J', 20:'K', 21:'L', 22:'M', 23:'N', 24:'O', 25:'P', 26:'Q', 27:'R', 28:'S', 29:'T', 30:'U', 31:'V', 32:'W', 33:'X', 34:'Y', 35:'Z', 36:'a', 37:'b', 38:'d', 39:'e', 40:'f', 41:'g', 42:'h', 43:'n', 44:'q', 45:'r', 46:'t'}\n",
    "relevant_characters =  ['0','1','2','3','4','5','6','7','8','B','F','G','K','N','O','P','R','S','V','W','Y'] \n",
    "\n",
    "nums = relevant_characters[:9]\n",
    "letters = relevant_characters[9:]"
   ]
  },
  {
   "cell_type": "code",
   "execution_count": 2,
   "metadata": {},
   "outputs": [],
   "source": [
    "def flip_rotate(image):\n",
    "    \"\"\" Flip ảnh và Xoay ảnh 90 độ ngược chiều kim đồng hồ\"\"\"\n",
    "    W = 28\n",
    "    H = 28\n",
    "    image = np.fliplr(image)\n",
    "    image = np.rot90(image)\n",
    "    return image"
   ]
  },
  {
   "cell_type": "code",
   "execution_count": 3,
   "metadata": {},
   "outputs": [],
   "source": [
    "no_images = 100000\n",
    "\n",
    "labels = np.zeros((no_images), dtype=int)\n",
    "images = np.zeros((no_images, 28, 28), dtype=int)\n",
    "\n",
    "i=0\n",
    "with open(r'\\\\alfs1.physics.ox.ac.uk\\al\\howards/emnist-balanced-train.csv') as csv_file:\n",
    "    csv_reader = csv.reader(csv_file, delimiter=',')\n",
    "    \n",
    "    for row in csv_reader:\n",
    "        labels[i] = int(row[0])\n",
    "        images[i] = flip_rotate(np.array(row[1:],dtype=np.uint8).reshape((28,28)))\n",
    "        i+=1\n",
    "        if i==no_images:\n",
    "            break"
   ]
  },
  {
   "cell_type": "code",
   "execution_count": 4,
   "metadata": {},
   "outputs": [],
   "source": [
    "def remove_irrelevants(images, labels, keys_list, relevant_characters,):\n",
    "    \n",
    "\n",
    "    key_list = list(keys_list.keys())\n",
    "    val_list = list(keys_list.values())\n",
    "\n",
    "\n",
    "    position = [val_list.index(relevant_characters[i]) for i in range(len(relevant_characters))] \n",
    "    idxs = [i in position for i in labels]\n",
    "    return images[idxs], labels[idxs]\n",
    "\n",
    "\n",
    "\n",
    "\n",
    "def id_to_char(labels, keys_list):\n",
    "    'convert the id into the corresponding character'\n",
    "    labels = np.array(labels)\n",
    "    return [keys_list[label] for label in labels]\n",
    "\n",
    "\n",
    "def id_to_idx(labels):\n",
    "\n",
    "    idxs = np.unique(labels)\n",
    "    \n",
    "    return [list(idxs).index(label) for label in labels]\n"
   ]
  },
  {
   "cell_type": "code",
   "execution_count": 5,
   "metadata": {},
   "outputs": [],
   "source": [
    "images_num, labels_num,  = remove_irrelevants(images, labels, by_merge_map, nums)\n",
    "images_let, labels_let_ = remove_irrelevants(images, labels, by_merge_map, letters)\n",
    "\n",
    "labels_let = id_to_idx(labels_let_)\n",
    "\n",
    "images_num = torch.tensor(images_num, dtype = torch.float32).unsqueeze(1)\n",
    "labels_num = torch.tensor(labels_num,dtype=torch.int64)\n",
    "images_let = torch.tensor(images_let, dtype = torch.float32).unsqueeze(1)\n",
    "labels_let = torch.tensor(labels_let,dtype=torch.int64)\n",
    "\n",
    "train_test_split = 0.8\n",
    "\n",
    "train_num = int(len(images_num)*train_test_split)\n",
    "train_let = int(len(images_let)*train_test_split)\n",
    "\n",
    "train_images_num = images_num[:train_num]\n",
    "train_labels_num = labels_num[:train_num]\n",
    "test_images_num = images_num[train_num:]\n",
    "test_labels_num = labels_num[train_num:]\n",
    "\n",
    "train_images_let = images_let[:train_let]\n",
    "train_labels_let = labels_let[:train_let]\n",
    "test_images_let = images_let[train_let:]\n",
    "test_labels_let = labels_let[train_let:]"
   ]
  },
  {
   "cell_type": "code",
   "execution_count": 6,
   "metadata": {},
   "outputs": [],
   "source": [
    "dataset_train_num = TensorDataset(train_images_num, train_labels_num)\n",
    "dataset_test_num = TensorDataset(test_images_num, test_labels_num)\n",
    "dataset_train_let = TensorDataset(train_images_let, train_labels_let)\n",
    "dataset_test_let = TensorDataset(test_images_let, test_labels_let)\n",
    "\n",
    "batchsize = 32\n",
    "\n",
    "dataloader_train_num = DataLoader(dataset_train_num, batch_size=batchsize, shuffle=True)\n",
    "dataloader_test_num = DataLoader(dataset_test_num, batch_size=batchsize, shuffle=True)\n",
    "dataloader_train_let = DataLoader(dataset_train_let, batch_size=batchsize, shuffle=True)\n",
    "dataloader_test_let = DataLoader(dataset_test_let, batch_size=batchsize, shuffle=True)\n"
   ]
  },
  {
   "cell_type": "code",
   "execution_count": 7,
   "metadata": {},
   "outputs": [
    {
     "data": {
      "image/png": "[encoded data removed]",
      "text/plain": [
       "<Figure size 640x480 with 8 Axes>"
      ]
     },
     "metadata": {},
     "output_type": "display_data"
    }
   ],
   "source": [
    "labels_num_char = id_to_char(labels_num, by_merge_map)\n",
    "labels_let_char = id_to_char(labels_let_, by_merge_map)\n",
    "\n",
    "fig,ax = plt.subplots(2,4)\n",
    "for i in range(4):\n",
    "    idx = np.random.randint(0, len(images_num))\n",
    "    ax[0,i].imshow(images_num[idx,0], cmap='gray')\n",
    "    ax[0,i].set_title(labels_num_char[idx])\n",
    "    ax[0,i].axis('off')\n",
    "\n",
    "    idx = np.random.randint(0, len(images_let))\n",
    "    ax[1,i].imshow(images_let[idx,0], cmap='gray')\n",
    "    ax[1,i].set_title(labels_let_char[idx])\n",
    "    ax[1,i].axis('off')\n",
    "\n",
    "plt.show()"
   ]
  },
  {
   "cell_type": "markdown",
   "metadata": {},
   "source": [
    "Make some models "
   ]
  },
  {
   "cell_type": "code",
   "execution_count": 8,
   "metadata": {},
   "outputs": [],
   "source": [
    "import torch.nn as nn\n"
   ]
  },
  {
   "cell_type": "markdown",
   "metadata": {},
   "source": [
    "## Test the numbers Model"
   ]
  },
  {
   "cell_type": "code",
   "execution_count": 9,
   "metadata": {},
   "outputs": [
    {
     "name": "stdout",
     "output_type": "stream",
     "text": [
      "Epoch [1/10], Step [100/478], Loss: 0.7610\n",
      "Epoch [1/10], Step [200/478], Loss: 0.3727\n",
      "Epoch [1/10], Step [300/478], Loss: 0.1253\n",
      "Epoch [1/10], Step [400/478], Loss: 0.4263\n",
      "Epoch [2/10], Step [100/478], Loss: 0.3445\n",
      "Epoch [2/10], Step [200/478], Loss: 0.5826\n",
      "Epoch [2/10], Step [300/478], Loss: 0.2579\n",
      "Epoch [2/10], Step [400/478], Loss: 0.2876\n",
      "Epoch [3/10], Step [100/478], Loss: 0.0861\n",
      "Epoch [3/10], Step [200/478], Loss: 0.0037\n",
      "Epoch [3/10], Step [300/478], Loss: 0.0776\n",
      "Epoch [3/10], Step [400/478], Loss: 0.0029\n",
      "Epoch [4/10], Step [100/478], Loss: 0.0694\n",
      "Epoch [4/10], Step [200/478], Loss: 0.0800\n",
      "Epoch [4/10], Step [300/478], Loss: 0.0277\n",
      "Epoch [4/10], Step [400/478], Loss: 0.0225\n",
      "Epoch [5/10], Step [100/478], Loss: 0.1122\n",
      "Epoch [5/10], Step [200/478], Loss: 0.0541\n",
      "Epoch [5/10], Step [300/478], Loss: 0.0003\n",
      "Epoch [5/10], Step [400/478], Loss: 0.0300\n",
      "Epoch [6/10], Step [100/478], Loss: 0.0263\n",
      "Epoch [6/10], Step [200/478], Loss: 0.0083\n",
      "Epoch [6/10], Step [300/478], Loss: 0.0494\n",
      "Epoch [6/10], Step [400/478], Loss: 0.1080\n",
      "Epoch [7/10], Step [100/478], Loss: 0.0153\n",
      "Epoch [7/10], Step [200/478], Loss: 0.0028\n",
      "Epoch [7/10], Step [300/478], Loss: 0.0031\n",
      "Epoch [7/10], Step [400/478], Loss: 0.0045\n",
      "Epoch [8/10], Step [100/478], Loss: 0.0419\n",
      "Epoch [8/10], Step [200/478], Loss: 0.0805\n",
      "Epoch [8/10], Step [300/478], Loss: 0.0034\n",
      "Epoch [8/10], Step [400/478], Loss: 0.0003\n",
      "Epoch [9/10], Step [100/478], Loss: 0.0111\n",
      "Epoch [9/10], Step [200/478], Loss: 0.0463\n",
      "Epoch [9/10], Step [300/478], Loss: 0.0000\n",
      "Epoch [9/10], Step [400/478], Loss: 0.0001\n",
      "Epoch [10/10], Step [100/478], Loss: 0.0167\n",
      "Epoch [10/10], Step [200/478], Loss: 0.0202\n",
      "Epoch [10/10], Step [300/478], Loss: 0.0017\n",
      "Epoch [10/10], Step [400/478], Loss: 0.0030\n",
      "Test Accuracy of the model on the test images: 0.98\n",
      "Prediction number: [7 1 4 4 7 1 1 3 2 5]\n",
      "Actual number:     [7 1 4 4 7 1 1 3 2 5]\n"
     ]
    },
    {
     "data": {
      "image/png": "[encoded data removed]",
      "text/plain": [
       "<Figure size 2000x200 with 10 Axes>"
      ]
     },
     "metadata": {},
     "output_type": "display_data"
    }
   ],
   "source": [
    "cnn_num = CNN(no_classes = len(np.unique(labels_num)))\n",
    "\n",
    "\n",
    "num_epochs = 10\n",
    "loss_func = nn.CrossEntropyLoss()   \n",
    "optimizer = torch.optim.Adam(cnn_num.parameters(), lr=0.0001)   # optimize all cnn parameters\n",
    "\n",
    "cnn_num.train()\n",
    "        \n",
    "# Train the model\n",
    "total_step = len(dataset_train_num) // batchsize\n",
    "    \n",
    "for epoch in range(num_epochs):\n",
    "    for i, (b_x, b_y) in enumerate(dataloader_train_num):\n",
    "        \n",
    "        output = cnn_num(b_x)[0]               \n",
    "        loss = loss_func(output, b_y)\n",
    "        \n",
    "        optimizer.zero_grad()           \n",
    "        loss.backward()    \n",
    "        optimizer.step()                \n",
    "        \n",
    "        if (i+1) % 100 == 0:\n",
    "            print ('Epoch [{}/{}], Step [{}/{}], Loss: {:.4f}' \n",
    "                    .format(epoch + 1, num_epochs, i + 1, total_step, loss.item()))\n",
    "\n",
    "\n",
    "store_acc = []\n",
    "\n",
    "cnn_num.eval()\n",
    "with torch.no_grad():\n",
    "    correct = 0\n",
    "    total = 0\n",
    "    for images, labels in dataloader_test_num:\n",
    "        test_output, last_layer = cnn_num(images)\n",
    "        pred_y = torch.max(test_output, 1)[1].data.squeeze()\n",
    "        accuracy = (pred_y == labels).sum().item() / float(labels.size(0))\n",
    "        store_acc.append(accuracy)\n",
    "\n",
    "        \n",
    "print('Test Accuracy of the model on the test images: %.2f' % torch.mean(torch.FloatTensor(store_acc)))\n",
    "    \n",
    "imgs, labels = dataset_test_num[:10]\n",
    "\n",
    "test_output, last_layer = cnn_num(imgs[:10])\n",
    "pred_y = torch.max(test_output, 1)[1].data.numpy().squeeze()\n",
    "\n",
    "fig,ax = plt.subplots(1,10,figsize=(20,2))\n",
    "for i in range(10):\n",
    "    ax[i].imshow(imgs[i].squeeze(), cmap='gray')\n",
    "    ax[i].set_title(f'Prediction: {pred_y[i]}\\nActual: {labels[i]}')\n",
    "    ax[i].axis('off')\n",
    "\n",
    "print(f'Prediction number: {pred_y}')\n",
    "print(f'Actual number:     {np.array(labels)}')"
   ]
  },
  {
   "cell_type": "markdown",
   "metadata": {},
   "source": [
    "## Test the letters model"
   ]
  },
  {
   "cell_type": "code",
   "execution_count": 10,
   "metadata": {},
   "outputs": [],
   "source": [
    "def preds_to_char(preds, letters):\n",
    "    return np.array([letters[i] for i in preds])"
   ]
  },
  {
   "cell_type": "code",
   "execution_count": 11,
   "metadata": {},
   "outputs": [
    {
     "name": "stdout",
     "output_type": "stream",
     "text": [
      "Epoch [1/10], Step [100/638], Loss: 0.4717\n",
      "Epoch [1/10], Step [200/638], Loss: 0.4556\n",
      "Epoch [1/10], Step [300/638], Loss: 0.6279\n",
      "Epoch [1/10], Step [400/638], Loss: 0.2647\n",
      "Epoch [1/10], Step [500/638], Loss: 0.2450\n",
      "Epoch [1/10], Step [600/638], Loss: 0.2942\n",
      "Epoch [2/10], Step [100/638], Loss: 0.0645\n",
      "Epoch [2/10], Step [200/638], Loss: 0.0531\n",
      "Epoch [2/10], Step [300/638], Loss: 0.0256\n",
      "Epoch [2/10], Step [400/638], Loss: 0.2356\n",
      "Epoch [2/10], Step [500/638], Loss: 0.0348\n",
      "Epoch [2/10], Step [600/638], Loss: 0.1111\n",
      "Epoch [3/10], Step [100/638], Loss: 0.1567\n",
      "Epoch [3/10], Step [200/638], Loss: 0.1454\n",
      "Epoch [3/10], Step [300/638], Loss: 0.0478\n",
      "Epoch [3/10], Step [400/638], Loss: 0.0550\n",
      "Epoch [3/10], Step [500/638], Loss: 0.2109\n",
      "Epoch [3/10], Step [600/638], Loss: 0.1892\n",
      "Epoch [4/10], Step [100/638], Loss: 0.0090\n",
      "Epoch [4/10], Step [200/638], Loss: 0.0226\n",
      "Epoch [4/10], Step [300/638], Loss: 0.0140\n",
      "Epoch [4/10], Step [400/638], Loss: 0.0519\n",
      "Epoch [4/10], Step [500/638], Loss: 0.0437\n",
      "Epoch [4/10], Step [600/638], Loss: 0.0101\n",
      "Epoch [5/10], Step [100/638], Loss: 0.0047\n",
      "Epoch [5/10], Step [200/638], Loss: 0.0260\n",
      "Epoch [5/10], Step [300/638], Loss: 0.0449\n",
      "Epoch [5/10], Step [400/638], Loss: 0.0019\n",
      "Epoch [5/10], Step [500/638], Loss: 0.1475\n",
      "Epoch [5/10], Step [600/638], Loss: 0.0068\n",
      "Epoch [6/10], Step [100/638], Loss: 0.0014\n",
      "Epoch [6/10], Step [200/638], Loss: 0.0059\n",
      "Epoch [6/10], Step [300/638], Loss: 0.0280\n",
      "Epoch [6/10], Step [400/638], Loss: 0.0775\n",
      "Epoch [6/10], Step [500/638], Loss: 0.0068\n",
      "Epoch [6/10], Step [600/638], Loss: 0.0563\n",
      "Epoch [7/10], Step [100/638], Loss: 0.0012\n",
      "Epoch [7/10], Step [200/638], Loss: 0.0104\n",
      "Epoch [7/10], Step [300/638], Loss: 0.0102\n",
      "Epoch [7/10], Step [400/638], Loss: 0.1091\n",
      "Epoch [7/10], Step [500/638], Loss: 0.0259\n",
      "Epoch [7/10], Step [600/638], Loss: 0.0195\n",
      "Epoch [8/10], Step [100/638], Loss: 0.0273\n",
      "Epoch [8/10], Step [200/638], Loss: 0.1538\n",
      "Epoch [8/10], Step [300/638], Loss: 0.1462\n",
      "Epoch [8/10], Step [400/638], Loss: 0.0453\n",
      "Epoch [8/10], Step [500/638], Loss: 0.0004\n",
      "Epoch [8/10], Step [600/638], Loss: 0.1020\n",
      "Epoch [9/10], Step [100/638], Loss: 0.0077\n",
      "Epoch [9/10], Step [200/638], Loss: 0.0207\n",
      "Epoch [9/10], Step [300/638], Loss: 0.0004\n",
      "Epoch [9/10], Step [400/638], Loss: 0.0029\n",
      "Epoch [9/10], Step [500/638], Loss: 0.0473\n",
      "Epoch [9/10], Step [600/638], Loss: 0.2471\n",
      "Epoch [10/10], Step [100/638], Loss: 0.0002\n",
      "Epoch [10/10], Step [200/638], Loss: 0.0441\n",
      "Epoch [10/10], Step [300/638], Loss: 0.0188\n",
      "Epoch [10/10], Step [400/638], Loss: 0.0385\n",
      "Epoch [10/10], Step [500/638], Loss: 0.0054\n",
      "Epoch [10/10], Step [600/638], Loss: 0.0047\n",
      "Test Accuracy of the model on the test images: 0.97\n",
      "Prediction number: ['F' 'Y' 'F' 'B' 'B' 'G' 'V' 'F' 'R' 'O']\n",
      "Actual number:     ['F' 'Y' 'P' 'G' 'B' 'G' 'V' 'F' 'R' 'O']\n"
     ]
    },
    {
     "data": {
      "image/png": "[encoded data removed]",
      "text/plain": [
       "<Figure size 2000x200 with 10 Axes>"
      ]
     },
     "metadata": {},
     "output_type": "display_data"
    }
   ],
   "source": [
    "cnn_let = CNN(no_classes = len(np.unique(labels_let)))\n",
    "\n",
    "num_epochs = 10\n",
    "loss_func = nn.CrossEntropyLoss()   \n",
    "optimizer = torch.optim.Adam(cnn_let.parameters(), lr=1e-3)   # optimize all cnn parameters\n",
    "\n",
    "cnn_let.train()\n",
    "        \n",
    "# Train the model\n",
    "total_step = len(dataset_train_let) // batchsize\n",
    "    \n",
    "for epoch in range(num_epochs):\n",
    "    for i, (b_x, b_y) in enumerate(dataloader_train_let):\n",
    "        \n",
    "        output = cnn_let(b_x)[0]               \n",
    "        loss = loss_func(output, b_y)\n",
    "        \n",
    "        optimizer.zero_grad()           \n",
    "        loss.backward()    \n",
    "        optimizer.step()                \n",
    "        \n",
    "        if (i+1) % 100 == 0:\n",
    "            print ('Epoch [{}/{}], Step [{}/{}], Loss: {:.4f}' \n",
    "                    .format(epoch + 1, num_epochs, i + 1, total_step, loss.item()))\n",
    "\n",
    "\n",
    "# test the model\n",
    "store_acc = []\n",
    "\n",
    "cnn_let.eval()\n",
    "with torch.no_grad():\n",
    "    correct = 0\n",
    "    total = 0\n",
    "    for images, labels in dataloader_test_let:\n",
    "        test_output, last_layer = cnn_let(images)\n",
    "        pred_y = torch.max(test_output, 1)[1].data.squeeze()\n",
    "        accuracy = (pred_y == labels).sum().item() / float(labels.size(0))\n",
    "        store_acc.append(accuracy)\n",
    "\n",
    "        \n",
    "print('Test Accuracy of the model on the test images: %.2f' % torch.mean(torch.FloatTensor(store_acc)))\n",
    "\n",
    "#plot\n",
    "imgs, labels = dataset_test_let[:10]\n",
    "test_output, last_layer = cnn_let(imgs[:10])\n",
    "pred_y = preds_to_char(torch.max(test_output, 1)[1].data.numpy().squeeze(),letters)\n",
    "labels = preds_to_char(labels, letters)\n",
    "\n",
    "fig,ax = plt.subplots(1,10,figsize=(20,2))\n",
    "for i in range(10):\n",
    "    ax[i].imshow(imgs[i].squeeze(), cmap='gray')\n",
    "    ax[i].set_title(f'Prediction: {pred_y[i]}\\nActual: {labels[i]}')\n",
    "    ax[i].axis('off')\n",
    "\n",
    "print(f'Prediction number: {pred_y}')\n",
    "print(f'Actual number:     {labels}')"
   ]
  },
  {
   "cell_type": "code",
   "execution_count": 14,
   "metadata": {},
   "outputs": [],
   "source": [
    "torch.save(cnn_let, 'letter_model.pth')\n",
    "torch.save(cnn_num, 'number_model.pth')\n"
   ]
  },
  {
   "cell_type": "code",
   "execution_count": 17,
   "metadata": {},
   "outputs": [
    {
     "data": {
      "text/plain": [
       "tensor([  0.,   1.,   2.,   3.,   4.,   5.,   6.,   7.,   8.,   9.,  10.,  11.,\n",
       "         12.,  13.,  15.,  16.,  17.,  18.,  19.,  20.,  21.,  22.,  23.,  24.,\n",
       "         25.,  26.,  27.,  28.,  29.,  30.,  31.,  32.,  33.,  34.,  35.,  36.,\n",
       "         37.,  38.,  39.,  40.,  41.,  42.,  43.,  44.,  45.,  46.,  47.,  48.,\n",
       "         49.,  50.,  51.,  52.,  53.,  54.,  55.,  56.,  57.,  58.,  59.,  61.,\n",
       "         62.,  63.,  64.,  65.,  66.,  67.,  68.,  69.,  70.,  74.,  76.,  77.,\n",
       "         78.,  79.,  80.,  81.,  82.,  83.,  84.,  85.,  86.,  87.,  88.,  90.,\n",
       "         91.,  92.,  93.,  94.,  95.,  96.,  98., 100., 102., 104., 107., 108.,\n",
       "        109., 110., 111., 112., 113., 114., 115., 116., 117., 120., 121., 122.,\n",
       "        123., 124., 125., 126., 127., 128., 129., 130., 131., 132., 133., 134.,\n",
       "        136., 137., 138., 139., 140., 141., 142., 143., 144., 145., 146., 147.,\n",
       "        148., 151., 153., 154., 156., 157., 158., 159., 160., 161., 162., 163.,\n",
       "        164., 167., 169., 170., 171., 172., 173., 174., 175., 176., 177., 181.,\n",
       "        182., 183., 184., 185., 186., 187., 188., 189., 190., 191., 192., 193.,\n",
       "        194., 195., 196., 197., 198., 199., 200., 201., 202., 203., 204., 205.,\n",
       "        206., 207., 208., 209., 210., 211., 212., 213., 214., 215., 216., 217.,\n",
       "        218., 219., 220., 221., 222., 223., 225., 227., 228., 229., 230., 231.,\n",
       "        232., 233., 234., 235., 236., 237., 238., 239., 240., 241., 242., 243.,\n",
       "        244., 245., 246., 247., 248., 249., 250., 251., 252., 253., 254., 255.])"
      ]
     },
     "execution_count": 17,
     "metadata": {},
     "output_type": "execute_result"
    }
   ],
   "source": [
    "torch.unique(imgs)"
   ]
  }
 ],
 "metadata": {
  "kernelspec": {
   "display_name": "base",
   "language": "python",
   "name": "python3"
  },
  "language_info": {
   "codemirror_mode": {
    "name": "ipython",
    "version": 3
   },
   "file_extension": ".py",
   "mimetype": "text/x-python",
   "name": "python",
   "nbconvert_exporter": "python",
   "pygments_lexer": "ipython3",
   "version": "3.8.8"
  },
  "orig_nbformat": 4
 },
 "nbformat": 4,
 "nbformat_minor": 2
}
